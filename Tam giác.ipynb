{
 "cells": [
  {
   "cell_type": "code",
   "execution_count": null,
   "id": "9dc23b4a",
   "metadata": {},
   "outputs": [
    {
     "name": "stdout",
     "output_type": "stream",
     "text": [
      "AB, BC, AC có phải là 3 cạnh tam giác:  True\n"
     ]
    }
   ],
   "source": [
    "import math \n",
    "AB = 100\n",
    "AC = 130\n",
    "BC = 150\n",
    "tamgiac = AB + BC>AC and AB + AC>BC and BC + AC>AB\n",
    "print('AB, BC, AC có phải là 3 cạnh tam giác: ', tamgiac)\n",
    "\n",
    "cosA = (AB**2 + AC**2 - BC**2)/(2*AB*AC)\n",
    "cosB = (BC**2 + AB**2 - AC**2)/(2*BC*AB)\n",
    "cosC = (BC**2 + AC**2 - AB**2)/(2*BC*AC)\n",
    "\n",
    "A = math.degrees(math.acos(cosA))\n",
    "B = math.degrees(math.acos(cosB))\n",
    "C = math.degrees(math.acos(cosC))\n",
    "\n",
    "import turtle\n",
    "t = turtle.Turtle()\n",
    "t.forward(AB)\n",
    "t.right(180-B)\n",
    "t.forward(BC)\n",
    "t.right(180-C)\n",
    "t.forward(AC)\n",
    "t.hideturtle()\n",
    "turtle.done()\n"
   ]
  },
  {
   "cell_type": "code",
   "execution_count": null,
   "id": "c93e8a51",
   "metadata": {},
   "outputs": [],
   "source": []
  },
  {
   "cell_type": "code",
   "execution_count": null,
   "id": "924d2ab9",
   "metadata": {},
   "outputs": [],
   "source": []
  }
 ],
 "metadata": {
  "kernelspec": {
   "display_name": "Python 3 (ipykernel)",
   "language": "python",
   "name": "python3"
  },
  "language_info": {
   "codemirror_mode": {
    "name": "ipython",
    "version": 3
   },
   "file_extension": ".py",
   "mimetype": "text/x-python",
   "name": "python",
   "nbconvert_exporter": "python",
   "pygments_lexer": "ipython3",
   "version": "3.10.5"
  }
 },
 "nbformat": 4,
 "nbformat_minor": 5
}
