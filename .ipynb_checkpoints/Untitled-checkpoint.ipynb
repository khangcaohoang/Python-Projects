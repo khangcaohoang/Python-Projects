{
 "cells": [
  {
   "cell_type": "code",
   "execution_count": 1,
   "id": "51069eb8",
   "metadata": {},
   "outputs": [
    {
     "name": "stdout",
     "output_type": "stream",
     "text": [
      "Hoành độ a: -2\n",
      "Tung độ a: -6\n",
      "Hoành độ b: 4\n",
      "Tung độ b: -4\n",
      "Hoành độ c: 2\n",
      "Tung độ c: -2\n",
      "=> Tọa độ của d là:  ( -4 , -4 )\n"
     ]
    }
   ],
   "source": [
    "a1 = input(\"Hoành độ a: \")\n",
    "a2 = input(\"Tung độ a: \")\n",
    "b1 = input(\"Hoành độ b: \")\n",
    "b2 = input(\"Tung độ b: \")\n",
    "c1 = input(\"Hoành độ c: \")\n",
    "c2 = input(\"Tung độ c: \")\n",
    "\n",
    "#Để ABCD là hbh thì vAB = vDC\n",
    "d1 = int(a1) + int(c1) - int(b1)\n",
    "d2 = int(a2) + int(c2) - int(b2)\n",
    "        \n",
    "print(\"=> Tọa độ của d là: \",\"(\",d1,\",\",d2,\")\")\n",
    "\n",
    "import turtle\n",
    "t = turtle.Turtle()\n",
    "t.shape('turtle')\n",
    "t.penup()\n",
    "t.goto(int(a1),int(a2))\n",
    "t.pendown()\n",
    "t.penup()\n",
    "t.goto(int(b1),int(b2))\n",
    "t.pendown()\n",
    "t.penup()\n",
    "t.goto(int(c1),int(c2))\n",
    "t.pendown()\n",
    "t.penup()\n",
    "t.goto(int(d1),int(d2))\n",
    "t.pendown()\n",
    "t.hideturtle()\n",
    "turtle.done()"
   ]
  },
  {
   "cell_type": "code",
   "execution_count": null,
   "id": "0eb08578",
   "metadata": {},
   "outputs": [],
   "source": []
  },
  {
   "cell_type": "code",
   "execution_count": null,
   "id": "a3362926",
   "metadata": {},
   "outputs": [],
   "source": []
  }
 ],
 "metadata": {
  "kernelspec": {
   "display_name": "Python 3 (ipykernel)",
   "language": "python",
   "name": "python3"
  },
  "language_info": {
   "codemirror_mode": {
    "name": "ipython",
    "version": 3
   },
   "file_extension": ".py",
   "mimetype": "text/x-python",
   "name": "python",
   "nbconvert_exporter": "python",
   "pygments_lexer": "ipython3",
   "version": "3.10.5"
  }
 },
 "nbformat": 4,
 "nbformat_minor": 5
}
