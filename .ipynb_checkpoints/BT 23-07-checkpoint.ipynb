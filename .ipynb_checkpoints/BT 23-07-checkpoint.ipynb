{
 "cells": [
  {
   "cell_type": "code",
   "execution_count": null,
   "id": "4c149df3",
   "metadata": {
    "scrolled": true
   },
   "outputs": [
    {
     "name": "stdout",
     "output_type": "stream",
     "text": [
      "Nhập độ dài cạnh AB: 10\n",
      "Nhập độ dài cạnh AC: 15\n",
      "Nhập độ dài cạnh BC: 9\n",
      "AB, BC, AC có phải là 3 cạnh tam giác:  True\n",
      "Đường cao của đỉnh A = 2.351778943168525\n",
      "Đường cao của đỉnh B = 1.411067365901115\n",
      "Đường cao của đỉnh B = 2.1166010488516727\n"
     ]
    }
   ],
   "source": [
    "import math \n",
    "xA = int(input(\"Nhập hoành độ A: \"))\n",
    "yA = int(input(\"Nhập tung độ A: \"))\n",
    "xB = int(input(\"Nhập hoành độ B: \"))\n",
    "yB = int(input(\"Nhập tung độ B: \"))\n",
    "xC = int(input(\"Nhập hoành độ A: \"))\n",
    "yC = int(input(\"Nhập tung độ B: \"))\n",
    "\n",
    "\n",
    "\n",
    "\n",
    "tamgiac = AB + BC>AC and AB + AC>BC and BC + AC>AB\n",
    "print('AB, BC, AC có phải là 3 cạnh tam giác: ', tamgiac)\n",
    "\n",
    "cosA = (AB**2 + AC**2 - BC**2)/(2*AB*AC)\n",
    "cosB = (BC**2 + AB**2 - AC**2)/(2*BC*AB)\n",
    "cosC = (BC**2 + AC**2 - AB**2)/(2*BC*AC)\n",
    "\n",
    "A = math.degrees(math.acos(cosA))\n",
    "B = math.degrees(math.acos(cosB))\n",
    "C = math.degrees(math.acos(cosC))\n",
    "\n",
    "P = (AB + AC + BC)/2\n",
    "S = math.sqrt((P - AB)*(P - AC)*(P - BC))\n",
    "\n",
    "hA = S/(0.5*BC)\n",
    "hB = S/(0.5*AC)\n",
    "hC = S/(0.5*AB)\n",
    "\n",
    "print('Đường cao của đỉnh A =',hA)\n",
    "print('Đường cao của đỉnh B =',hB)\n",
    "print('Đường cao của đỉnh B =',hC)\n",
    "\n",
    "gA = BC/2\n",
    "gB = AC/2\n",
    "gC = AB/2\n",
    "\n",
    "print('Đường cao của đỉnh A =',gA)\n",
    "print('Đường cao của đỉnh A =',gB)\n",
    "print('Đường cao của đỉnh A =',gC)\n",
    "\n",
    "import turtle\n",
    "t = turtle.Turtle()\n",
    "t.forward(AB)\n",
    "t.right(180-B)\n",
    "t.forward(BC)\n",
    "t.right(180-C)\n",
    "t.forward(AC)\n",
    "t.hideturtle()\n",
    "turtle.done()\n"
   ]
  },
  {
   "cell_type": "code",
   "execution_count": null,
   "id": "08445fdf",
   "metadata": {},
   "outputs": [],
   "source": []
  }
 ],
 "metadata": {
  "kernelspec": {
   "display_name": "Python 3 (ipykernel)",
   "language": "python",
   "name": "python3"
  },
  "language_info": {
   "codemirror_mode": {
    "name": "ipython",
    "version": 3
   },
   "file_extension": ".py",
   "mimetype": "text/x-python",
   "name": "python",
   "nbconvert_exporter": "python",
   "pygments_lexer": "ipython3",
   "version": "3.10.5"
  }
 },
 "nbformat": 4,
 "nbformat_minor": 5
}
