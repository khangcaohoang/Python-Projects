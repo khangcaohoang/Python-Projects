{
 "cells": [
  {
   "cell_type": "code",
   "execution_count": 2,
   "id": "afdc4ef5",
   "metadata": {},
   "outputs": [
    {
     "name": "stdout",
     "output_type": "stream",
     "text": [
      "Nhập họ tên:NgUYỄn VăN bÌNH \n",
      "Nguyễn Văn Bình\n"
     ]
    }
   ],
   "source": [
    "name = (input('Nhập họ tên:')\n",
    "name = name.strip().lower().title()\n",
    "print(name)\n"
   ]
  },
  {
   "cell_type": "code",
   "execution_count": 14,
   "id": "c5758c75",
   "metadata": {},
   "outputs": [
    {
     "name": "stdout",
     "output_type": "stream",
     "text": [
      "123012341egdfsg\n",
      "Tổng số chẵn: 4\n",
      "Tổng số lẻ: 5\n"
     ]
    }
   ],
   "source": [
    "text = input()\n",
    "even = text.count('2') + text.count('4') + text.count('6') + text.count('8') + text.count('0')\n",
    "odd = text.count('1') + text.count('3') + text.count('5') + text.count('7') + text.count('9')\n",
    "print('Tổng số chẵn:',even)\n",
    "print('Tổng số lẻ:',odd)"
   ]
  },
  {
   "cell_type": "code",
   "execution_count": null,
   "id": "71b088dd",
   "metadata": {},
   "outputs": [],
   "source": []
  }
 ],
 "metadata": {
  "kernelspec": {
   "display_name": "Python 3 (ipykernel)",
   "language": "python",
   "name": "python3"
  },
  "language_info": {
   "codemirror_mode": {
    "name": "ipython",
    "version": 3
   },
   "file_extension": ".py",
   "mimetype": "text/x-python",
   "name": "python",
   "nbconvert_exporter": "python",
   "pygments_lexer": "ipython3",
   "version": "3.10.5"
  }
 },
 "nbformat": 4,
 "nbformat_minor": 5
}
