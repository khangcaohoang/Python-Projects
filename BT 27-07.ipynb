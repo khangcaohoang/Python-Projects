{
 "cells": [
  {
   "cell_type": "code",
   "execution_count": 5,
   "id": "afdc4ef5",
   "metadata": {},
   "outputs": [
    {
     "name": "stdout",
     "output_type": "stream",
     "text": [
      "Nhập họ tên:         hoÀnG              nAm khANG\n",
      "['hoÀnG', 'nAm', 'khANG']\n",
      "Hoàng Nam Khang\n"
     ]
    }
   ],
   "source": [
    "name = (input('Nhập họ tên:'))\n",
    "ten = name.split()\n",
    "print(ten)\n",
    "chuan = ten[0].title() + ' ' + ten[1].title() + ' ' + ten[2].title() + ' ' + ten[3].title()\n",
    "print(chuan)\n"
   ]
  },
  {
   "cell_type": "code",
   "execution_count": 6,
   "id": "c5758c75",
   "metadata": {},
   "outputs": [
    {
     "name": "stdout",
     "output_type": "stream",
     "text": [
      "jge6wr567r53677667736\n",
      "Tổng số chẵn: 6\n",
      "Tổng số lẻ: 9\n"
     ]
    }
   ],
   "source": [
    "text = input()\n",
    "even = text.count('2') + text.count('4') + text.count('6') + text.count('8') + text.count('0')\n",
    "odd = text.count('1') + text.count('3') + text.count('5') + text.count('7') + text.count('9')\n",
    "print('Tổng số chẵn:',even)\n",
    "print('Tổng số lẻ:',odd)"
   ]
  },
  {
   "cell_type": "code",
   "execution_count": null,
   "id": "9490c45a",
   "metadata": {},
   "outputs": [],
   "source": []
  }
 ],
 "metadata": {
  "kernelspec": {
   "display_name": "Python 3 (ipykernel)",
   "language": "python",
   "name": "python3"
  },
  "language_info": {
   "codemirror_mode": {
    "name": "ipython",
    "version": 3
   },
   "file_extension": ".py",
   "mimetype": "text/x-python",
   "name": "python",
   "nbconvert_exporter": "python",
   "pygments_lexer": "ipython3",
   "version": "3.10.5"
  }
 },
 "nbformat": 4,
 "nbformat_minor": 5
}
