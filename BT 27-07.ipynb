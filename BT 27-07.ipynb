{
 "cells": [
  {
   "cell_type": "code",
   "execution_count": 2,
   "id": "af0a7708",
   "metadata": {},
   "outputs": [
    {
     "name": "stdout",
     "output_type": "stream",
     "text": [
      "Nhập họ tên:NgUYỄn VăN bÌNH \n",
      "Nguyễn Văn Bình\n"
     ]
    }
   ],
   "source": [
    "name = (input('Nhập họ tên:')\n",
    "name = name.strip().lower().title()\n",
    "print(name)\n"
   ]
  },
  {
   "cell_type": "code",
   "execution_count": 3,
   "id": "fd999615",
   "metadata": {},
   "outputs": [
    {
     "name": "stdout",
     "output_type": "stream",
     "text": [
      "hi 90\n"
     ]
    },
    {
     "ename": "NameError",
     "evalue": "name 'isdigit' is not defined",
     "output_type": "error",
     "traceback": [
      "\u001b[1;31m---------------------------------------------------------------------------\u001b[0m",
      "\u001b[1;31mNameError\u001b[0m                                 Traceback (most recent call last)",
      "Input \u001b[1;32mIn [3]\u001b[0m, in \u001b[0;36m<cell line: 2>\u001b[1;34m()\u001b[0m\n\u001b[0;32m      1\u001b[0m text \u001b[38;5;241m=\u001b[39m \u001b[38;5;28minput\u001b[39m()\n\u001b[1;32m----> 2\u001b[0m \u001b[38;5;28mprint\u001b[39m(\u001b[43misdigit\u001b[49m(text))\n",
      "\u001b[1;31mNameError\u001b[0m: name 'isdigit' is not defined"
     ]
    }
   ],
   "source": [
    "text = input()\n",
    "even = text.count('2') + text.count('4') + text.count('6') + text.count('8') + text.count('0')\n",
    "odd = text.count('1') + text.count('3') + text.count('5') + text.count('7') + text.count('8')"
   ]
  }
 ],
 "metadata": {
  "kernelspec": {
   "display_name": "Python 3 (ipykernel)",
   "language": "python",
   "name": "python3"
  },
  "language_info": {
   "codemirror_mode": {
    "name": "ipython",
    "version": 3
   },
   "file_extension": ".py",
   "mimetype": "text/x-python",
   "name": "python",
   "nbconvert_exporter": "python",
   "pygments_lexer": "ipython3",
   "version": "3.10.5"
  }
 },
 "nbformat": 4,
 "nbformat_minor": 5
}
