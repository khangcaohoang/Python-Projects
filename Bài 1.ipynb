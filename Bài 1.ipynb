{
 "cells": [
  {
   "cell_type": "code",
   "execution_count": 1,
   "id": "49250f6e",
   "metadata": {},
   "outputs": [
    {
     "name": "stdout",
     "output_type": "stream",
     "text": [
      "Nhập thu nhập cá nhân trong tháng: 50000000\n",
      "Nhập số người phụ thuộc: 2\n",
      "Thu nhập tính thuế thu nhập cá nhân: 30200000\n"
     ]
    }
   ],
   "source": [
    "a = input(\"Nhập thu nhập cá nhân trong tháng: \")\n",
    "b = input(\"Nhập số người phụ thuộc: \")\n",
    "\n",
    "#Thu nhập tính thuế thu nhập cá nhân\n",
    "c = int(a) - (11000000 + int(b)*4400000)\n",
    "print(\"Thu nhập tính thuế thu nhập cá nhân:\",c)"
   ]
  },
  {
   "cell_type": "code",
   "execution_count": null,
   "id": "d3b853a4",
   "metadata": {},
   "outputs": [],
   "source": []
  },
  {
   "cell_type": "code",
   "execution_count": null,
   "id": "457dd4ab",
   "metadata": {},
   "outputs": [],
   "source": []
  },
  {
   "cell_type": "code",
   "execution_count": null,
   "id": "fa0d52a1",
   "metadata": {},
   "outputs": [],
   "source": []
  }
 ],
 "metadata": {
  "kernelspec": {
   "display_name": "Python 3 (ipykernel)",
   "language": "python",
   "name": "python3"
  },
  "language_info": {
   "codemirror_mode": {
    "name": "ipython",
    "version": 3
   },
   "file_extension": ".py",
   "mimetype": "text/x-python",
   "name": "python",
   "nbconvert_exporter": "python",
   "pygments_lexer": "ipython3",
   "version": "3.10.5"
  }
 },
 "nbformat": 4,
 "nbformat_minor": 5
}
