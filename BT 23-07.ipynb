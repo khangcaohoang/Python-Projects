{
 "cells": [
  {
   "cell_type": "code",
   "execution_count": 3,
   "id": "4c149df3",
   "metadata": {
    "scrolled": true
   },
   "outputs": [
    {
     "name": "stdout",
     "output_type": "stream",
     "text": [
      "Nhập hoành độ A: 10\n",
      "Nhập tung độ A: 20\n",
      "Nhập hoành độ B: -50\n",
      "Nhập tung độ B: -45\n",
      "Nhập hoành độ A: 30\n",
      "Nhập tung độ B: 60\n",
      "Độ dài AB: 88.45903006477066\n",
      "Độ dài AC: 44.721359549995796\n",
      "Độ dài BC: 132.00378782444085\n",
      "AB, BC, AC có phải là 3 cạnh tam giác:  True\n",
      "Đường cao của đỉnh A = 0.723681525238849\n",
      "Đường cao của đỉnh B = 2.136086726149311\n",
      "Đường cao của đỉnh B = 1.0799203025417485\n",
      "Đường cao của đỉnh A = 66.00189391222042\n",
      "Đường cao của đỉnh A = 22.360679774997898\n",
      "Đường cao của đỉnh A = 44.22951503238533\n",
      "Tọa độ của trọng tâm tam giác là: ( -3.3333333333333335 ; 11.666666666666666 )\n"
     ]
    }
   ],
   "source": [
    "import math \n",
    "xA = int(input(\"Nhập hoành độ A: \"))\n",
    "yA = int(input(\"Nhập tung độ A: \"))\n",
    "xB = int(input(\"Nhập hoành độ B: \"))\n",
    "yB = int(input(\"Nhập tung độ B: \"))\n",
    "xC = int(input(\"Nhập hoành độ A: \"))\n",
    "yC = int(input(\"Nhập tung độ B: \"))\n",
    "\n",
    "AB = round(math.sqrt((xB-xA)**2 + (yB-yA)**2))\n",
    "AC = round(math.sqrt((xC-xA)**2 + (yC-yA)**2))\n",
    "BC = round(math.sqrt((xC-xB)**2 + (yC-yB)**2))\n",
    "\n",
    "print('Độ dài AB:',AB)\n",
    "print('Độ dài AC:',AC)\n",
    "print('Độ dài BC:',BC)\n",
    "\n",
    "\n",
    "tamgiac = AB + BC>AC and AB + AC>BC and BC + AC>AB\n",
    "print('AB, BC, AC có phải là 3 cạnh tam giác: ', tamgiac)\n",
    "\n",
    "cosA = (AB**2 + AC**2 - BC**2)/(2*AB*AC)\n",
    "cosB = (BC**2 + AB**2 - AC**2)/(2*BC*AB)\n",
    "cosC = (BC**2 + AC**2 - AB**2)/(2*BC*AC)\n",
    "\n",
    "A = math.degrees(math.acos(cosA))\n",
    "B = math.degrees(math.acos(cosB))\n",
    "C = math.degrees(math.acos(cosC))\n",
    "\n",
    "P = (AB + AC + BC)/2\n",
    "S = math.sqrt((P - AB)*(P - AC)*(P - BC))\n",
    "\n",
    "hA = round(S/(0.5*BC))\n",
    "hB = round(S/(0.5*AC))\n",
    "hC = round(S/(0.5*AB))\n",
    "\n",
    "print('Đường cao của đỉnh A =',hA)\n",
    "print('Đường cao của đỉnh B =',hB)\n",
    "print('Đường cao của đỉnh B =',hC)\n",
    "\n",
    "gA = round(BC/2)\n",
    "gB = round(AC/2)\n",
    "gC = round(AB/2)\n",
    "\n",
    "print('Đường cao của đỉnh A =',gA)\n",
    "print('Đường cao của đỉnh A =',gB)\n",
    "print('Đường cao của đỉnh A =',gC)\n",
    "\n",
    "xG = (xA+xB+xC)/3\n",
    "yG = (yA+yB+yC)/3\n",
    "\n",
    "print('Tọa độ của trọng tâm tam giác là: (',xG,';',yG,')')\n",
    "import turtle\n",
    "t = turtle.Turtle()\n",
    "t.forward(AB)\n",
    "t.right(180-B)\n",
    "t.forward(BC)\n",
    "t.right(180-C)\n",
    "t.forward(AC)\n",
    "t.hideturtle()\n",
    "turtle.done()\n"
   ]
  },
  {
   "cell_type": "code",
   "execution_count": null,
   "id": "08445fdf",
   "metadata": {},
   "outputs": [],
   "source": []
  }
 ],
 "metadata": {
  "kernelspec": {
   "display_name": "Python 3 (ipykernel)",
   "language": "python",
   "name": "python3"
  },
  "language_info": {
   "codemirror_mode": {
    "name": "ipython",
    "version": 3
   },
   "file_extension": ".py",
   "mimetype": "text/x-python",
   "name": "python",
   "nbconvert_exporter": "python",
   "pygments_lexer": "ipython3",
   "version": "3.10.5"
  }
 },
 "nbformat": 4,
 "nbformat_minor": 5
}
