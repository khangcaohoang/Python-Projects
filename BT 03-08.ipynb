{
 "cells": [
  {
   "cell_type": "code",
   "execution_count": 1,
   "id": "b3bce491",
   "metadata": {},
   "outputs": [
    {
     "name": "stdout",
     "output_type": "stream",
     "text": [
      "30\n",
      "3 9 15 21 27 "
     ]
    }
   ],
   "source": [
    "a = int(input())\n",
    "n = 1\n",
    "while n < a:\n",
    "    if n%3 == 0 and n%2 !=0:\n",
    "        print(n, end=' ')\n",
    "    n+=1\n"
   ]
  },
  {
   "cell_type": "code",
   "execution_count": 7,
   "id": "995a319a",
   "metadata": {},
   "outputs": [
    {
     "name": "stdout",
     "output_type": "stream",
     "text": [
      "Nhập mã: 4902778120972\n",
      "Mã vạch đúng\n"
     ]
    }
   ],
   "source": [
    "a = input('Nhập mã: ')\n",
    "n = 0\n",
    "A = 0\n",
    "B = 0\n",
    "F = 0\n",
    "\n",
    "while n < 12  : \n",
    "    if n % 2 == 0 :\n",
    "        A += int(a[n])\n",
    "        n += 1\n",
    "    else:\n",
    "        B += int(a[n])\n",
    "        n += 1\n",
    "D = A + 3*B\n",
    "F = 10-D%10 if D%10!=0 else 0\n",
    "\n",
    "print('Mã vạch đúng'if F == int(a[-1]) else 'Không phải là mã vạch')\n"
   ]
  },
  {
   "cell_type": "code",
   "execution_count": null,
   "id": "533979ea",
   "metadata": {},
   "outputs": [],
   "source": []
  },
  {
   "cell_type": "code",
   "execution_count": null,
   "id": "e4784c66",
   "metadata": {},
   "outputs": [],
   "source": [
    "\n"
   ]
  }
 ],
 "metadata": {
  "kernelspec": {
   "display_name": "Python 3 (ipykernel)",
   "language": "python",
   "name": "python3"
  },
  "language_info": {
   "codemirror_mode": {
    "name": "ipython",
    "version": 3
   },
   "file_extension": ".py",
   "mimetype": "text/x-python",
   "name": "python",
   "nbconvert_exporter": "python",
   "pygments_lexer": "ipython3",
   "version": "3.10.5"
  }
 },
 "nbformat": 4,
 "nbformat_minor": 5
}
