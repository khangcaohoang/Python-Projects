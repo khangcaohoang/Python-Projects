{
 "cells": [
  {
   "cell_type": "code",
   "execution_count": 6,
   "id": "7796dc5b",
   "metadata": {},
   "outputs": [
    {
     "name": "stdout",
     "output_type": "stream",
     "text": [
      "1000\n",
      "3 9 15 21 27 33 39 45 51 57 63 69 75 81 87 93 99 105 111 117 123 129 135 141 147 153 159 165 171 177 183 189 195 201 207 213 219 225 231 237 243 249 255 261 267 273 279 285 291 297 303 309 315 321 327 333 339 345 351 357 363 369 375 381 387 393 399 405 411 417 423 429 435 441 447 453 459 465 471 477 483 489 495 501 507 513 519 525 531 537 543 549 555 561 567 573 579 585 591 597 603 609 615 621 627 633 639 645 651 657 663 669 675 681 687 693 699 705 711 717 723 729 735 741 747 753 759 765 771 777 783 789 795 801 807 813 819 825 831 837 843 849 855 861 867 873 879 885 891 897 903 909 915 921 927 933 939 945 951 957 963 969 975 981 987 993 999 "
     ]
    }
   ],
   "source": [
    "a = int(input())\n",
    "n = 1\n",
    "while n < a:\n",
    "    if n%3 == 0 and n%2 !=0:\n",
    "        print(n, end=' ')\n",
    "    n+=1\n"
   ]
  },
  {
   "cell_type": "code",
   "execution_count": 11,
   "id": "08068714",
   "metadata": {},
   "outputs": [
    {
     "name": "stdout",
     "output_type": "stream",
     "text": [
      "Nhập mã:1234567893423\n"
     ]
    },
    {
     "ename": "TypeError",
     "evalue": "'int' object is not subscriptable",
     "output_type": "error",
     "traceback": [
      "\u001b[1;31m---------------------------------------------------------------------------\u001b[0m",
      "\u001b[1;31mTypeError\u001b[0m                                 Traceback (most recent call last)",
      "Input \u001b[1;32mIn [11]\u001b[0m, in \u001b[0;36m<cell line: 6>\u001b[1;34m()\u001b[0m\n\u001b[0;32m      6\u001b[0m \u001b[38;5;28;01mwhile\u001b[39;00m n \u001b[38;5;241m<\u001b[39m \u001b[38;5;241m13\u001b[39m  : \n\u001b[0;32m      7\u001b[0m     \u001b[38;5;28;01mif\u001b[39;00m n \u001b[38;5;241m%\u001b[39m \u001b[38;5;241m2\u001b[39m \u001b[38;5;241m!=\u001b[39m \u001b[38;5;241m0\u001b[39m :\n\u001b[1;32m----> 8\u001b[0m         A \u001b[38;5;241m=\u001b[39m A \u001b[38;5;241m+\u001b[39m \u001b[38;5;28mint\u001b[39m(\u001b[43ma\u001b[49m\u001b[43m[\u001b[49m\u001b[43mn\u001b[49m\u001b[38;5;241;43m-\u001b[39;49m\u001b[38;5;241;43m1\u001b[39;49m\u001b[43m]\u001b[49m)\n\u001b[0;32m      9\u001b[0m         n \u001b[38;5;241m=\u001b[39m n \u001b[38;5;241m+\u001b[39m \u001b[38;5;241m1\u001b[39m\n\u001b[0;32m     10\u001b[0m     \u001b[38;5;28;01melse\u001b[39;00m:\n",
      "\u001b[1;31mTypeError\u001b[0m: 'int' object is not subscriptable"
     ]
    }
   ],
   "source": [
    "a = int(input('Nhập mã:'))\n",
    "n = 1\n",
    "A = 0\n",
    "B = 0\n",
    "\n",
    "while n < 13  : \n",
    "    if n % 2 != 0 :\n",
    "        A = A + int(a[n-1])\n",
    "        n = n + 1\n",
    "    else:\n",
    "        B = B + int(a[n-1])\n",
    "        n = n + 1\n",
    "D = A + 3*B\n",
    "if D % 10 == 0 :\n",
    "    F = 0\n",
    "else :\n",
    "    F = 10 - D%10\n",
    "\n",
    "print('Mã vạch đúng'if F == int(a[-1]) else 'Không phải là mã vạch')\n"
   ]
  },
  {
   "cell_type": "code",
   "execution_count": null,
   "id": "58d82dbd",
   "metadata": {},
   "outputs": [],
   "source": []
  }
 ],
 "metadata": {
  "kernelspec": {
   "display_name": "Python 3 (ipykernel)",
   "language": "python",
   "name": "python3"
  },
  "language_info": {
   "codemirror_mode": {
    "name": "ipython",
    "version": 3
   },
   "file_extension": ".py",
   "mimetype": "text/x-python",
   "name": "python",
   "nbconvert_exporter": "python",
   "pygments_lexer": "ipython3",
   "version": "3.10.5"
  }
 },
 "nbformat": 4,
 "nbformat_minor": 5
}
