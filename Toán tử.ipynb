{
 "cells": [
  {
   "cell_type": "code",
   "execution_count": 11,
   "id": "52c7acc6",
   "metadata": {},
   "outputs": [
    {
     "name": "stdout",
     "output_type": "stream",
     "text": [
      "True\n",
      "False\n",
      "False\n",
      "False\n",
      "True\n"
     ]
    }
   ],
   "source": [
    "a = 2 \n",
    "b = 3\n",
    "c = 4\n",
    "\n",
    "#câu 1: 3 cạnh a,b,c phải là tam giác không?\n",
    "\n",
    "tamgiac = abs(a-b)<c<a+b\n",
    "print(tamgiac)\n",
    "\n",
    "\n",
    "#câu 2: tam giác đó là tam giác gì?\n",
    "\n",
    "tamgiaccan = a == b or b == c or a == c or a == b == c\n",
    "print(tamgiaccan)\n",
    "\n",
    "tamgiacdeu = a == b == c\n",
    "print(tamgiacdeu)\n",
    "\n",
    "tamgiacvuong = a**2 == b**2 + c**2 or b**2 == a**2 + c**2 or c**2 == a**2 + b**2\n",
    "print(tamgiacvuong)\n",
    "\n",
    "\n",
    "tamgiacthuong = not(tamgiaccan) \n",
    "tamgiacthuong = not(tamgiacvuong)\n",
    "print(tamgiacthuong)\n",
    "\n",
    "\n"
   ]
  },
  {
   "cell_type": "code",
   "execution_count": null,
   "id": "a925f613",
   "metadata": {},
   "outputs": [],
   "source": []
  },
  {
   "cell_type": "code",
   "execution_count": null,
   "id": "228a96b9",
   "metadata": {},
   "outputs": [],
   "source": []
  },
  {
   "cell_type": "code",
   "execution_count": null,
   "id": "3219e7f6",
   "metadata": {},
   "outputs": [],
   "source": []
  }
 ],
 "metadata": {
  "kernelspec": {
   "display_name": "Python 3 (ipykernel)",
   "language": "python",
   "name": "python3"
  },
  "language_info": {
   "codemirror_mode": {
    "name": "ipython",
    "version": 3
   },
   "file_extension": ".py",
   "mimetype": "text/x-python",
   "name": "python",
   "nbconvert_exporter": "python",
   "pygments_lexer": "ipython3",
   "version": "3.10.5"
  }
 },
 "nbformat": 4,
 "nbformat_minor": 5
}
