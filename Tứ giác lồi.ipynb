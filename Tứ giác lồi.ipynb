{
 "cells": [
  {
   "cell_type": "code",
   "execution_count": 1,
   "id": "dbad7721",
   "metadata": {},
   "outputs": [
    {
     "name": "stdout",
     "output_type": "stream",
     "text": [
      "Nhập màu: red\n",
      "Nhap hoanh do diem A: 50\n",
      "Nhap tung do diem A: 100\n",
      "Nhap hoanh do diem B: -200\n",
      "Nhap tung do diem B: -300\n",
      "Nhap hoanh do diem C: 150\n",
      "Nhap tung do diem C: 240\n",
      "Nhap hoanh do diem D: 440\n",
      "Nhap tung do diem D: -103\n"
     ]
    }
   ],
   "source": [
    "import math\n",
    "color = input('Nhập màu: ')\n",
    "A1 = int(input('Nhap hoanh do diem A: '))\n",
    "A2 = int(input('Nhap tung do diem A: '))\n",
    "B1 = int(input('Nhap hoanh do diem B: '))\n",
    "B2 = int(input('Nhap tung do diem B: '))\n",
    "C1 = int(input('Nhap hoanh do diem C: '))\n",
    "C2 = int(input('Nhap tung do diem C: '))\n",
    "D1 = int(input('Nhap hoanh do diem D: '))\n",
    "D2 = int(input('Nhap tung do diem D: '))\n",
    "\n",
    "\n",
    "AB = math.sqrt((B1-A1)**2 + (B2-A2)**2)\n",
    "AC = math.sqrt((C1-A1)**2 + (C2-A2)**2)\n",
    "AD = math.sqrt((D1-A1)**2 + (D2-A2)**2)\n",
    "BC = math.sqrt((C1-B1)**2 + (C2-D2)**2)\n",
    "BD = math.sqrt((D1-B1)**2 + (D2-C2)**2)\n",
    "CD = math.sqrt((D1-C1)**2 + (D2-C2)**2)\n",
    "\n",
    "cosA = (AB**2 + AD**2 - BD**2)/(2*AB*AD)\n",
    "cosB = (BC**2 + AB**2 - AC**2)/(2*BC*AB)\n",
    "cosC = (BC**2 + CD**2 - BD**2)/(2*BC*CD)\n",
    "cosD = (CD**2 + AD**2 - AC**2)/(2*CD*AD)\n",
    "tugiacloi = (cosA> -1 and cosA< 1) and (cosB> -1 and cosB< 1) and (cosC>-1 and cosC<1) and (cosD>-1 and cosD<1)\n",
    "\n",
    "\n",
    "\n",
    "import turtle\n",
    "n = turtle.Turtle()\n",
    "n.begin_fill()\n",
    "n.penup()\n",
    "n.setpos(int(A1), int(A2))\n",
    "n.pendown()\n",
    "n.fillcolor(color)\n",
    "n.goto(int(B1), int(B2))\n",
    "n.goto(int(C1), int(C2))\n",
    "n.goto(int(D1), int(D2))\n",
    "n.goto(int(A1), int(A2))\n",
    "n.end_fill()\n",
    "turtle.done()\n"
   ]
  },
  {
   "cell_type": "code",
   "execution_count": null,
   "id": "121e9b62",
   "metadata": {},
   "outputs": [],
   "source": []
  },
  {
   "cell_type": "code",
   "execution_count": null,
   "id": "3600f6a5",
   "metadata": {},
   "outputs": [],
   "source": []
  }
 ],
 "metadata": {
  "kernelspec": {
   "display_name": "Python 3 (ipykernel)",
   "language": "python",
   "name": "python3"
  },
  "language_info": {
   "codemirror_mode": {
    "name": "ipython",
    "version": 3
   },
   "file_extension": ".py",
   "mimetype": "text/x-python",
   "name": "python",
   "nbconvert_exporter": "python",
   "pygments_lexer": "ipython3",
   "version": "3.10.5"
  }
 },
 "nbformat": 4,
 "nbformat_minor": 5
}
