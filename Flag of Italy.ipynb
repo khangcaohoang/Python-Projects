{
 "cells": [
  {
   "cell_type": "code",
   "execution_count": null,
   "id": "0b65d616",
   "metadata": {},
   "outputs": [],
   "source": [
    "import turtle\n",
    "t=turtle.Turtle()\n",
    "t.hideturtle()\n",
    "t.penup()\n",
    "t.goto(-400, 250)\n",
    "t.pendown()\n",
    "\n",
    "t.color(\"green\")\n",
    "t.begin_fill()\n",
    "t.forward(267)\n",
    "t.right(90)\n",
    "t.forward(500)\n",
    "t.right(90)\n",
    "t.forward(267)\n",
    "t.end_fill()\n",
    "\n",
    "t.color(\"white\")\n",
    "t.begin_fill()\n",
    "t.right(180)\n",
    "t.forward(267)\n",
    "t.left(90)\n",
    "t.forward(500)\n",
    "t.right(90)\n",
    "t.forward(267)\n",
    "t.right(90)\n",
    "t.forward(500)\n",
    "t.end_fill()\n",
    "\n",
    "t.color(\"red\")\n",
    "t.begin_fill()\n",
    "t.left(90)\n",
    "t.forward(267)\n",
    "t.left(90)\n",
    "t.forward(500)\n",
    "t.left(90)\n",
    "t.forward(267)\n",
    "t.end_fill()\n",
    "\n",
    "turtle.done()"
   ]
  },
  {
   "cell_type": "code",
   "execution_count": null,
   "id": "f8bc7ebf",
   "metadata": {},
   "outputs": [],
   "source": []
  }
 ],
 "metadata": {
  "kernelspec": {
   "display_name": "Python 3 (ipykernel)",
   "language": "python",
   "name": "python3"
  },
  "language_info": {
   "codemirror_mode": {
    "name": "ipython",
    "version": 3
   },
   "file_extension": ".py",
   "mimetype": "text/x-python",
   "name": "python",
   "nbconvert_exporter": "python",
   "pygments_lexer": "ipython3",
   "version": "3.10.5"
  }
 },
 "nbformat": 4,
 "nbformat_minor": 5
}
