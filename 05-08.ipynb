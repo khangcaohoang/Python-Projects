{
 "cells": [
  {
   "cell_type": "code",
   "execution_count": 1,
   "id": "70b3044f",
   "metadata": {},
   "outputs": [
    {
     "name": "stdout",
     "output_type": "stream",
     "text": [
      "Nhập số nguyên a: 2\n",
      "Nhập số nguyên b: 2\n",
      "ước chung lớn nhất là 2\n"
     ]
    }
   ],
   "source": [
    "a = int(input('Nhập số nguyên a: '))\n",
    "b = int(input('Nhập số nguyên b: '))\n",
    "i = 2\n",
    "ans = ''\n",
    "if a > b:\n",
    "    while i<=b:\n",
    "        if a % i == 0 and b % i ==0:\n",
    "            ans = f'ước chung lớn nhất của 2 số là {i}'\n",
    "        i +=1\n",
    "elif b > a:\n",
    "    while i<=a:\n",
    "        if a % i == 0 and b % i ==0:\n",
    "            ans = f'ước chung lớn nhất của 2 số là {i}'\n",
    "        i +=1\n",
    "else:\n",
    "    ans = f'ước chung lớn nhất là {a}'\n",
    "\n",
    "print(ans)\n"
   ]
  },
  {
   "cell_type": "code",
   "execution_count": 2,
   "id": "1d1a60ad",
   "metadata": {},
   "outputs": [
    {
     "name": "stdout",
     "output_type": "stream",
     "text": [
      "Nghiệm 1 = -0.58856201171875\n",
      "Nghiêm 2 = -0.5885009765625\n"
     ]
    }
   ],
   "source": [
    "import math\n",
    "\n",
    "a = -1\n",
    "b = 1\n",
    "alpha = 0.0001\n",
    "\n",
    "while abs(a-b)>alpha:\n",
    "    h = (a+b)/2\n",
    "    fa = math.e**a + math.sin(a)\n",
    "    fb = math.e**b + math.sin(b)\n",
    "    fh = math.e**h + math.sin(h)\n",
    "    if fa*fh >0:\n",
    "        a = h\n",
    "    else:\n",
    "        b = h\n",
    "\n",
    "print('Nghiệm 1 =',a)\n",
    "print('Nghiêm 2 =',b)\n",
    "    "
   ]
  },
  {
   "cell_type": "code",
   "execution_count": null,
   "id": "866cd654",
   "metadata": {},
   "outputs": [],
   "source": []
  },
  {
   "cell_type": "code",
   "execution_count": null,
   "id": "2f8de2c0",
   "metadata": {},
   "outputs": [],
   "source": []
  }
 ],
 "metadata": {
  "kernelspec": {
   "display_name": "Python 3 (ipykernel)",
   "language": "python",
   "name": "python3"
  },
  "language_info": {
   "codemirror_mode": {
    "name": "ipython",
    "version": 3
   },
   "file_extension": ".py",
   "mimetype": "text/x-python",
   "name": "python",
   "nbconvert_exporter": "python",
   "pygments_lexer": "ipython3",
   "version": "3.10.5"
  }
 },
 "nbformat": 4,
 "nbformat_minor": 5
}
