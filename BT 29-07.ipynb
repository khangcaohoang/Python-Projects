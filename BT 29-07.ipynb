{
 "cells": [
  {
   "cell_type": "code",
   "execution_count": 15,
   "id": "4436a981",
   "metadata": {},
   "outputs": [
    {
     "name": "stdout",
     "output_type": "stream",
     "text": [
      "Nhập số điện tiêu dùng: 400\n",
      "số tiền phải đóng trong tháng đó: 909000\n"
     ]
    }
   ],
   "source": [
    "a = int(input('Nhập số điện tiêu dùng: '))\n",
    "if a<0:\n",
    "    print('Input error')\n",
    "elif a >= 0 and a <=50:\n",
    "    b = a*1678\n",
    "elif a >=51 and a <=100:\n",
    "    b = 50*1678 + (a-50)*1734\n",
    "elif a >=101 and a <=200:\n",
    "    b = 50*1678 + 50*1734 + (a-100)*2014\n",
    "elif a >=201 and a <=300:\n",
    "    b = 50*1678 + 50*1734 + 100*2014 + (a-200)*2536\n",
    "elif a >=301 and a <=400:\n",
    "    b = 50*1678 + 50*1734 + 100*2014 + 100*2536 + (a-300)*2834\n",
    "else:\n",
    "    b = 50*1678 + 50*1734 + 100*2014 + 100*2536 + 100*2834 + (a-400)*2927\n",
    "    \n",
    "if a >=0:\n",
    "    print('số tiền phải đóng trong tháng đó:',b)\n",
    "    "
   ]
  },
  {
   "cell_type": "code",
   "execution_count": 26,
   "id": "b503f8b1",
   "metadata": {},
   "outputs": [
    {
     "name": "stdout",
     "output_type": "stream",
     "text": [
      "Nhập hệ số a: 1\n",
      "Nhập hệ số b: 2\n",
      "Nhập hệ số c: 0\n",
      "x*2 + 2x \n"
     ]
    }
   ],
   "source": [
    "a = int(input('Nhập hệ số a: '))\n",
    "b = int(input('Nhập hệ số b: '))\n",
    "c = int(input('Nhập hệ số c: '))\n",
    "\n",
    "z = \"+ \"+ str(b)+\"x\"\n",
    "y = \"+ \"+ str(c)\n",
    "\n",
    "if a == 0:\n",
    "     print(\"Đa thức không phải bậc 2\")\n",
    "elif b == 0:\n",
    "    z = ''\n",
    "if c == 0:\n",
    "    y = ''\n",
    "if a == 1:\n",
    "    a = ''\n",
    "if a == -1:\n",
    "    a = '-'\n",
    "if b == 1:\n",
    "    z = '+ x'\n",
    "if b == -1:\n",
    "    z = '- x'\n",
    "\n",
    "if a != 0:\n",
    "    print(str(a)+'x*2',z,y)\n"
   ]
  },
  {
   "cell_type": "code",
   "execution_count": null,
   "id": "4d6e7b7a",
   "metadata": {},
   "outputs": [],
   "source": []
  },
  {
   "cell_type": "code",
   "execution_count": null,
   "id": "54ef9b37",
   "metadata": {},
   "outputs": [],
   "source": []
  }
 ],
 "metadata": {
  "kernelspec": {
   "display_name": "Python 3 (ipykernel)",
   "language": "python",
   "name": "python3"
  },
  "language_info": {
   "codemirror_mode": {
    "name": "ipython",
    "version": 3
   },
   "file_extension": ".py",
   "mimetype": "text/x-python",
   "name": "python",
   "nbconvert_exporter": "python",
   "pygments_lexer": "ipython3",
   "version": "3.10.5"
  }
 },
 "nbformat": 4,
 "nbformat_minor": 5
}
